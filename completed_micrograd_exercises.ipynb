{
  "nbformat": 4,
  "nbformat_minor": 0,
  "metadata": {
    "colab": {
      "provenance": [],
      "include_colab_link": true
    },
    "kernelspec": {
      "name": "python3",
      "display_name": "Python 3"
    },
    "language_info": {
      "name": "python"
    }
  },
  "cells": [
    {
      "cell_type": "markdown",
      "metadata": {
        "id": "view-in-github",
        "colab_type": "text"
      },
      "source": [
        "<a href=\"https://colab.research.google.com/github/deadshotbane80/learning_Micrograd/blob/main/completed_micrograd_exercises.ipynb\" target=\"_parent\"><img src=\"https://colab.research.google.com/assets/colab-badge.svg\" alt=\"Open In Colab\"/></a>"
      ]
    },
    {
      "cell_type": "markdown",
      "source": [
        "# micrograd exercises\n",
        "\n",
        "1. watch the [micrograd video](https://www.youtube.com/watch?v=VMj-3S1tku0) on YouTube\n",
        "2. come back and complete these exercises to level up :)"
      ],
      "metadata": {
        "id": "JnGHatCI51JP"
      }
    },
    {
      "cell_type": "markdown",
      "source": [
        "## section 1: derivatives"
      ],
      "metadata": {
        "id": "OFt6NKOz6iBZ"
      }
    },
    {
      "cell_type": "code",
      "source": [
        "# here is a mathematical expression that takes 3 inputs and produces one output\n",
        "from math import sin, cos\n",
        "\n",
        "def f(a, b, c):\n",
        "  return -a**3 + sin(3*b) - 1.0/c + b**2.5 - a**0.5\n",
        "\n",
        "print(f(2, 3, 4))"
      ],
      "metadata": {
        "id": "3Jx9fCXl5xHd",
        "colab": {
          "base_uri": "https://localhost:8080/"
        },
        "outputId": "2b49cb99-92e6-4661-83f0-02901890a2b4"
      },
      "execution_count": 1,
      "outputs": [
        {
          "output_type": "stream",
          "name": "stdout",
          "text": [
            "6.336362190988558\n"
          ]
        }
      ]
    },
    {
      "cell_type": "code",
      "source": [
        "# write the function df that returns the analytical gradient of f\n",
        "# i.e. use your skills from calculus to take the derivative, then implement the formula\n",
        "# if you do not calculus then feel free to ask wolframalpha, e.g.:\n",
        "# httpst://www.wolframalpha.com/input?i=d%2Fda%28sin%283*a%29%29%29\n",
        "\n",
        "def gradf(a, b, c):\n",
        "  dfa = - 3*a**2 - 0.5 * a**(-0.5)\n",
        "  dfb = 3 * cos(3*b) + 2.5*b**1.5\n",
        "  dfc = 1 * c**-2\n",
        "  return [dfa, dfb, dfc] # todo, return [df/da, df/db, df/dc]\n",
        "\n",
        "# expected answer is the list of\n",
        "ans = [-12.353553390593273, 10.25699027111255, 0.0625]\n",
        "yours = gradf(2, 3, 4)\n",
        "for dim in range(3):\n",
        "  ok = 'OK' if abs(yours[dim] - ans[dim]) < 1e-5 else 'WRONG!'\n",
        "  print(f\"{ok} for dim {dim}: expected {ans[dim]}, yours returns {yours[dim]}\")\n"
      ],
      "metadata": {
        "id": "qXaH59eL9zxf",
        "colab": {
          "base_uri": "https://localhost:8080/"
        },
        "outputId": "a8a894cd-2b20-4390-d16a-f83f892b37f6"
      },
      "execution_count": 10,
      "outputs": [
        {
          "output_type": "stream",
          "name": "stdout",
          "text": [
            "OK for dim 0: expected -12.353553390593273, yours returns -12.353553390593273\n",
            "OK for dim 1: expected 10.25699027111255, yours returns 10.25699027111255\n",
            "OK for dim 2: expected 0.0625, yours returns 0.0625\n"
          ]
        }
      ]
    },
    {
      "cell_type": "code",
      "source": [
        "# now estimate the gradient numerically without any calculus, using\n",
        "# the approximation we used in the video.\n",
        "# you should not call the function df from the last cell\n",
        "\n",
        "# -----------\n",
        "h = 0.0001\n",
        "a = 2\n",
        "b = 3\n",
        "c = 4\n",
        "inputs = [a,b,c]\n",
        "ans = []\n",
        "y1 = -a**3 + sin(3*b) - 1.0/c + b**2.5 - a**0.5\n",
        "for i in inputs:\n",
        "  a = 2;b=3;c=4\n",
        "  if i == a:\n",
        "    a += h\n",
        "    y2 = -a**3 + sin(3*b) - 1.0/c + b**2.5 - a**0.5\n",
        "    dfa = (y2 - y1)/h\n",
        "    ans.append(dfa)\n",
        "  elif i == b:\n",
        "    b += h\n",
        "    y2 = -a**3 + sin(3*b) - 1.0/c + b**2.5 - a**0.5\n",
        "    dfb = (y2 - y1)/h\n",
        "    ans.append(dfb)\n",
        "  elif i == c:\n",
        "    c += h\n",
        "    y2 = -a**3 + sin(3*b) - 1.0/c + b**2.5 - a**0.5\n",
        "    dfc = (y2 - y1)/h\n",
        "    ans.append(dfc)\n",
        "  else:\n",
        "    print('Invalid')\n",
        "\n",
        "\n",
        "numerical_grad = ans # TODO\n",
        "# -----------\n",
        "\n",
        "for dim in range(3):\n",
        "  ok = 'OK' if abs(numerical_grad[dim] - ans[dim]) < 1e-5 else 'WRONG!'\n",
        "  print(f\"{ok} for dim {dim}: expected {ans[dim]}, yours returns {numerical_grad[dim]}\")\n"
      ],
      "metadata": {
        "id": "_27n-KTA9Qla",
        "colab": {
          "base_uri": "https://localhost:8080/"
        },
        "outputId": "51fb0a80-ce23-4dd2-94e6-81348821178d"
      },
      "execution_count": 47,
      "outputs": [
        {
          "output_type": "stream",
          "name": "stdout",
          "text": [
            "OK for dim 0: expected -12.354148981312818, yours returns -12.354148981312818\n",
            "OK for dim 1: expected 10.25712962014147, yours returns 10.25712962014147\n",
            "OK for dim 2: expected 0.06249843753636242, yours returns 0.06249843753636242\n"
          ]
        }
      ]
    },
    {
      "cell_type": "code",
      "source": [
        "# there is an alternative formula that provides a much better numerical\n",
        "# approximation to the derivative of a function.\n",
        "# learn about it here: https://en.wikipedia.org/wiki/Symmetric_derivative\n",
        "# implement it. confirm that for the same step size h this version gives a\n",
        "# better approximation.\n",
        "\n",
        "# -----------\n",
        "h = 0.0001\n",
        "a = 2\n",
        "b = 3\n",
        "c = 4\n",
        "inputs = [a,b,c]\n",
        "ans = []\n",
        "y1 = -a**3 + sin(3*b) - 1.0/c + b**2.5 - a**0.5\n",
        "for i in inputs:\n",
        "  a = 2;b=3;c=4\n",
        "  if i == a:\n",
        "    x = a + h\n",
        "    y2 = -x**3 + sin(3*b) - 1.0/c + b**2.5 - x**0.5\n",
        "    y = a - h\n",
        "    y3 = -y**3 + sin(3*b) - 1.0/c + b**2.5 - y**0.5\n",
        "    dfa = (y3 - y2)/(2 * h)\n",
        "    ans.append(dfa)\n",
        "  elif i == b:\n",
        "    x = b + h\n",
        "    y2 = -a**3 + sin(3*x) - 1.0/c + x**2.5 - a**0.5\n",
        "    y = b - h\n",
        "    y3 = -a**3 + sin(3*y) - 1.0/c + y**2.5 - a**0.5\n",
        "    dfb = (y3 - y2)/(2 * h)\n",
        "    ans.append(dfb)\n",
        "  elif i == c:\n",
        "    x = c + h\n",
        "    y2 = -a**3 + sin(3*b) - 1.0/x + b**2.5 - a**0.5\n",
        "    y = c - h\n",
        "    y3 = -a**3 + sin(3*b) - 1.0/y + b**2.5 - a**0.5\n",
        "    dfc = (y3 - y2)/(2 * h)\n",
        "    ans.append(dfc)\n",
        "  else:\n",
        "    print('Invalid')\n",
        "numerical_grad2 = ans # TODO\n",
        "# -----------\n",
        "\n",
        "for dim in range(3):\n",
        "  ok = 'OK' if abs(numerical_grad2[dim] - ans[dim]) < 1e-5 else 'WRONG!'\n",
        "  print(f\"{ok} for dim {dim}: expected {ans[dim]}, yours returns {numerical_grad2[dim]}\")\n"
      ],
      "metadata": {
        "id": "BUqsGb5o_h2P",
        "colab": {
          "base_uri": "https://localhost:8080/"
        },
        "outputId": "ef20af18-30e3-4b44-ba4a-9ac419c433ba"
      },
      "execution_count": 51,
      "outputs": [
        {
          "output_type": "stream",
          "name": "stdout",
          "text": [
            "OK for dim 0: expected 12.353553400714645, yours returns 12.353553400714645\n",
            "OK for dim 1: expected -10.25699031393934, yours returns -10.25699031393934\n",
            "OK for dim 2: expected -0.06250000003760192, yours returns -0.06250000003760192\n"
          ]
        }
      ]
    },
    {
      "cell_type": "markdown",
      "source": [
        "## section 2: support for softmax"
      ],
      "metadata": {
        "id": "tklF9s_4AtlI"
      }
    },
    {
      "cell_type": "code",
      "source": [
        "from math import exp, log\n",
        "class Value:\n",
        "\n",
        "  def __init__(self, data, _children=(), _op='', label=''):\n",
        "    self.data = data\n",
        "    self.grad = 0.0\n",
        "    self._backward = lambda: None\n",
        "    self._prev = set(_children)\n",
        "    self._op = _op\n",
        "    self.label = label\n",
        "\n",
        "  def __repr__(self):\n",
        "    return f\"Value(data={self.data})\"\n",
        "  def exp(self):\n",
        "    x = self.data\n",
        "    return exp(x)\n",
        "a = Value(2.0)\n",
        "a.exp()"
      ],
      "metadata": {
        "colab": {
          "base_uri": "https://localhost:8080/"
        },
        "id": "2SMzcNtL9gdP",
        "outputId": "7306f21c-b11d-4571-f1ad-b78592fc93a3"
      },
      "execution_count": 60,
      "outputs": [
        {
          "output_type": "execute_result",
          "data": {
            "text/plain": [
              "7.38905609893065"
            ]
          },
          "metadata": {},
          "execution_count": 60
        }
      ]
    },
    {
      "cell_type": "code",
      "source": [
        "# Value class starter code, with many functions taken out\n",
        "from math import exp, log\n",
        "\n",
        "class Value:\n",
        "\n",
        "  def __init__(self, data, _children=(), _op='', label=''):\n",
        "    self.data = data\n",
        "    self.grad = 0.0\n",
        "    self._backward = lambda: None\n",
        "    self._prev = set(_children)\n",
        "    self._op = _op\n",
        "    self.label = label\n",
        "\n",
        "  def __repr__(self):\n",
        "    return f\"Value(data={self.data})\"\n",
        "\n",
        "  def __add__(self, other): # exactly as in the video\n",
        "    other = other if isinstance(other, Value) else Value(other)\n",
        "    out = Value(self.data + other.data, (self, other), '+')\n",
        "\n",
        "    def _backward():\n",
        "      self.grad += 1.0 * out.grad\n",
        "      other.grad += 1.0 * out.grad\n",
        "    out._backward = _backward\n",
        "\n",
        "    return out\n",
        "\n",
        "  # ------\n",
        "  def __radd__(self,other):\n",
        "    return self + other\n",
        "  def __mul__(self,other):\n",
        "    other = other if isinstance(other, Value) else Value(other)\n",
        "    out = Value(self.data * other.data, (self, other), '+')\n",
        "    def _backward():\n",
        "      self.grad += other.data * out.grad\n",
        "      other.grad += self.data * out.grad\n",
        "    out._backward = _backward\n",
        "    return out\n",
        "  def __pow__(self,other):\n",
        "    assert isinstance(other,(int,float)), \"Power should be either int or float\"\n",
        "    out = Value(self.data ** other,(self,),f'**{other}')\n",
        "    def _backward():\n",
        "      self.grad = other * self.data ** (other - 1) * out.grad\n",
        "    out._backward = _backward\n",
        "    return out\n",
        "  def exp(self):\n",
        "    x = self.data\n",
        "    out = Value(exp(x),(self,),'exp')\n",
        "    def _backward():\n",
        "      self.grad += out.data * out.grad\n",
        "    out._backward = _backward\n",
        "    return out\n",
        "  def __truediv__(self,other):\n",
        "    return self * other**-1\n",
        "  def log(self):\n",
        "    x = self.data\n",
        "    out = Value(log(x),(self,),'log')\n",
        "    def _backward():\n",
        "      self.grad = 1.0 * x**-1 * out.grad\n",
        "    out._backward = _backward\n",
        "    return out\n",
        "  def __neg__(self):\n",
        "    return self * -1\n",
        "  # ------\n",
        "\n",
        "  def backward(self): # exactly as in video\n",
        "    topo = []\n",
        "    visited = set()\n",
        "    def build_topo(v):\n",
        "      if v not in visited:\n",
        "        visited.add(v)\n",
        "        for child in v._prev:\n",
        "          build_topo(child)\n",
        "        topo.append(v)\n",
        "    build_topo(self)\n",
        "\n",
        "    self.grad = 1.0\n",
        "    for node in reversed(topo):\n",
        "      node._backward()"
      ],
      "metadata": {
        "id": "nAPe_RVrCTeO"
      },
      "execution_count": 71,
      "outputs": []
    },
    {
      "cell_type": "code",
      "source": [
        "# without referencing our code/video __too__ much, make this cell work\n",
        "# you'll have to implement (in some cases re-implemented) a number of functions\n",
        "# of the Value object, similar to what we've seen in the video.\n",
        "# instead of the squared error loss this implements the negative log likelihood\n",
        "# loss, which is very often used in classification.\n",
        "\n",
        "# this is the softmax function\n",
        "# https://en.wikipedia.org/wiki/Softmax_function\n",
        "def softmax(logits):\n",
        "  counts = [logit.exp() for logit in logits]\n",
        "  denominator = sum(counts)\n",
        "  out = [c / denominator for c in counts]\n",
        "  return out\n",
        "\n",
        "# this is the negative log likelihood loss function, pervasive in classification\n",
        "logits = [Value(0.0), Value(3.0), Value(-2.0), Value(1.0)]\n",
        "probs = softmax(logits)\n",
        "loss = -probs[3].log() # dim 3 acts as the label for this input example\n",
        "loss.backward()\n",
        "print(loss.data)\n",
        "\n",
        "ans = [0.041772570515350445, 0.8390245074625319, 0.005653302662216329, -0.8864503806400986]\n",
        "for dim in range(4):\n",
        "  ok = 'OK' if abs(logits[dim].grad - ans[dim]) < 1e-5 else 'WRONG!'\n",
        "  print(f\"{ok} for dim {dim}: expected {ans[dim]}, yours returns {logits[dim].grad}\")\n"
      ],
      "metadata": {
        "id": "VgWvwVQNAvnI",
        "colab": {
          "base_uri": "https://localhost:8080/"
        },
        "outputId": "040d0b84-4b51-433d-efac-3930ecf13f1f"
      },
      "execution_count": 72,
      "outputs": [
        {
          "output_type": "stream",
          "name": "stdout",
          "text": [
            "2.1755153626167147\n",
            "OK for dim 0: expected 0.041772570515350445, yours returns 0.041772570515350445\n",
            "OK for dim 1: expected 0.8390245074625319, yours returns 0.8390245074625319\n",
            "OK for dim 2: expected 0.005653302662216329, yours returns 0.005653302662216329\n",
            "OK for dim 3: expected -0.8864503806400986, yours returns -0.8864503806400986\n"
          ]
        }
      ]
    },
    {
      "cell_type": "code",
      "source": [
        "# verify the gradient using the torch library\n",
        "# torch should give you the exact same gradient\n",
        "import torch\n",
        "\n",
        "logits = torch.tensor([0.0, 3.0, -2.0, 1.0]);logits.requires_grad = True\n",
        "probs = torch.softmax(logits,dim = 0)\n",
        "loss = -probs[3].log() # dim 3 acts as the label for this input example\n",
        "loss.backward()\n",
        "print(loss.data)"
      ],
      "metadata": {
        "id": "q7ca1SVAGG1S",
        "colab": {
          "base_uri": "https://localhost:8080/"
        },
        "outputId": "22716a95-2556-4f1f-f369-5b398c981a11"
      },
      "execution_count": 86,
      "outputs": [
        {
          "output_type": "stream",
          "name": "stdout",
          "text": [
            "tensor(2.1755)\n"
          ]
        }
      ]
    }
  ]
}